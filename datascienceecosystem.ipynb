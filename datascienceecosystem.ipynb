{
 "cells": [
  {
   "cell_type": "markdown",
   "id": "e0e2fa82-b66c-48b0-9aa9-b0c062fe8c48",
   "metadata": {},
   "source": [
    "## Author\n",
    "Juliet Markeson\n"
   ]
  },
  {
   "cell_type": "markdown",
   "id": "cb2e8c0a-c740-4013-a460-018dc6133100",
   "metadata": {},
   "source": [
    "# Data Science Tools and Ecosystem"
   ]
  },
  {
   "cell_type": "markdown",
   "id": "057e5708-45b2-412c-8d99-a617859a9cf9",
   "metadata": {},
   "source": [
    "In this notebook, \"Data Science Tools and Ecosystem\" are summarized."
   ]
  },
  {
   "cell_type": "markdown",
   "id": "1c740a62-dde2-4a00-ba32-8147593df3e0",
   "metadata": {},
   "source": [
    "Some of the key takeaways from this course are\n"
   ]
  },
  {
   "cell_type": "markdown",
   "id": "b20e7003-1357-4dac-bb4c-9dd58aa814a1",
   "metadata": {},
   "source": [
    "**objectives**\n",
    "\n",
    "+ popular languages\n",
    "+ common libraries\n",
    "+ open source tools\n",
    "+ examples of evaluating expressions"
   ]
  },
  {
   "cell_type": "markdown",
   "id": "44e5be61-4637-44a2-a66c-8fc645c066aa",
   "metadata": {},
   "source": [
    "some of the popular languages that data scientists use are:"
   ]
  },
  {
   "cell_type": "markdown",
   "id": "01a785c1-e686-47c4-ab95-0d26080d3fbe",
   "metadata": {},
   "source": [
    "1. python\n",
    "2. r\n",
    "3. sql\n",
    "4. julia"
   ]
  },
  {
   "cell_type": "markdown",
   "id": "bc64ba6d-5d89-4b5a-a2a3-7c9b3d7ab417",
   "metadata": {},
   "source": [
    "Some of the commonly used libraries used by data scientists include\n",
    "1. pandas\n",
    "2. NumPy\n",
    "3. PyTorch\n",
    "4. SciKit\n",
    "5. Matplotlib"
   ]
  },
  {
   "cell_type": "markdown",
   "id": "ded41f3c-b651-4a12-ae88-650f2c018fd6",
   "metadata": {},
   "source": [
    "|Data Science Tools|\n",
    "|------|\n",
    "|weka |\n",
    "|tableau |\n",
    "|scikit learn |"
   ]
  },
  {
   "cell_type": "markdown",
   "id": "f89b69ef-8fa6-4083-bd23-5c30d0e3d6f4",
   "metadata": {},
   "source": [
    "### Below are a few examples of evaluating arithmatic expressions in python."
   ]
  },
  {
   "cell_type": "markdown",
   "id": "f57ce7a2-85de-4f81-a1a1-15fe1e6306db",
   "metadata": {},
   "source": [
    "this is a simple arthimatic expression to multiply then add integers"
   ]
  },
  {
   "cell_type": "code",
   "execution_count": 1,
   "id": "e7bf896a-5f94-47aa-bdb5-34f9762458af",
   "metadata": {},
   "outputs": [
    {
     "data": {
      "text/plain": [
       "17"
      ]
     },
     "execution_count": 1,
     "metadata": {},
     "output_type": "execute_result"
    }
   ],
   "source": [
    "(3*4)+5"
   ]
  },
  {
   "cell_type": "markdown",
   "id": "ab0e249e-a0df-4c25-9eff-43fb0cc9c4ab",
   "metadata": {},
   "source": [
    "**this will convert 200 minutes to hours by dividing by 60**"
   ]
  },
  {
   "cell_type": "code",
   "execution_count": 6,
   "id": "d671602f-0335-49c1-a5cc-36bb8cabc8e4",
   "metadata": {},
   "outputs": [
    {
     "name": "stdout",
     "output_type": "stream",
     "text": [
      "3.3333333333333335\n"
     ]
    }
   ],
   "source": [
    "print(200/60)"
   ]
  },
  {
   "cell_type": "code",
   "execution_count": null,
   "id": "9764d308-9aeb-4f2b-8f89-098229c30732",
   "metadata": {},
   "outputs": [],
   "source": []
  }
 ],
 "metadata": {
  "kernelspec": {
   "display_name": "Python 3 (ipykernel)",
   "language": "python",
   "name": "python3"
  },
  "language_info": {
   "codemirror_mode": {
    "name": "ipython",
    "version": 3
   },
   "file_extension": ".py",
   "mimetype": "text/x-python",
   "name": "python",
   "nbconvert_exporter": "python",
   "pygments_lexer": "ipython3",
   "version": "3.12.8"
  }
 },
 "nbformat": 4,
 "nbformat_minor": 5
}
